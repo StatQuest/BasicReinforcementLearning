{
  "cells": [
    {
      "cell_type": "markdown",
      "id": "8867a017-55f8-4449-a7aa-3ef788a1e496",
      "metadata": {
        "id": "8867a017-55f8-4449-a7aa-3ef788a1e496"
      },
      "source": [
        "# StatQuest: Basic Reinforcement Learning (RL)\n",
        "\n",
        "Copyright 2025, Joshua Starmer"
      ]
    },
    {
      "cell_type": "markdown",
      "id": "818ed178-9bc5-4ac9-9727-41f360729bd1",
      "metadata": {
        "id": "818ed178-9bc5-4ac9-9727-41f360729bd1"
      },
      "source": [
        "----"
      ]
    },
    {
      "cell_type": "markdown",
      "id": "2eebc25f-8182-4f65-9093-9fb64a756366",
      "metadata": {
        "id": "2eebc25f-8182-4f65-9093-9fb64a756366"
      },
      "source": [
        "In this tutorial we illustrate a very simple example of **Reinforcement Learning** (**RL**) by using it figure out where we should go, to **Norm's Fry Hut** or **'Squatch's Fry Shack**, if we want to maximize the number of fries we eat. This is complicated by the fact that **Norm** and **\\`Squatch** have different probabilities they will serve us large orders of fries. This example is based on the StatQuest video: **[Reinforcement Learning: Essential Concepts](https://youtu.be/Z-T0iJEXiwM)**\n",
        "\n",
        "<img src=\"https://github.com/StatQuest/BasicReinforcementLearning/blob/main/images/basic_rl_intro.png?raw=1\" alt=\"norm and squatchs fry places\" style=\"width: 800px;\">"
      ]
    },
    {
      "cell_type": "markdown",
      "id": "ca307543-8985-4d69-b371-90ba562b46f4",
      "metadata": {
        "id": "ca307543-8985-4d69-b371-90ba562b46f4"
      },
      "source": [
        "----"
      ]
    },
    {
      "cell_type": "markdown",
      "id": "a8905299-1f25-4226-9159-ccf3aaebc413",
      "metadata": {
        "id": "a8905299-1f25-4226-9159-ccf3aaebc413"
      },
      "source": [
        "# Import the modules that will do all the work\n",
        "\n",
        "The very first thing we need to do is load a bunch of Python modules. Python itself is just a basic programming language. These modules give us extra functionality to generate random numbers and draw fancy graphs."
      ]
    },
    {
      "cell_type": "code",
      "execution_count": null,
      "id": "a5ecc03f-c03e-423d-ad94-f059d64bc8f1",
      "metadata": {
        "id": "a5ecc03f-c03e-423d-ad94-f059d64bc8f1"
      },
      "outputs": [],
      "source": [
        "%%capture\n",
        "# %%capture prevents this cell from printing a ton of STDERR stuff to the screen\n",
        "\n",
        "## NOTE: If you **don't** need to install anything, you can comment out the\n",
        "##       next line.\n",
        "##\n",
        "##       If you **do** need to install something, just know that you may need to\n",
        "##       restart your session for python to find the new module(s).\n",
        "##\n",
        "##       To restart your session:\n",
        "##       - In Google Colab, click on the \"Runtime\" menu and select\n",
        "##         \"Restart Session\" from the pulldown menu\n",
        "##       - In a local jupyter notebook, click on the \"Kernel\" menu and select\n",
        "##         \"Restart Kernel\" from the pulldown menu\n",
        "##\n",
        "##       Also, installing can take a few minutes, so go get yourself a snack!\n",
        "!pip install seaborn"
      ]
    },
    {
      "cell_type": "code",
      "execution_count": null,
      "id": "9bb24001-b492-40e5-bbe1-3c33e7533e17",
      "metadata": {
        "id": "9bb24001-b492-40e5-bbe1-3c33e7533e17"
      },
      "outputs": [],
      "source": [
        "import numpy as np\n",
        "import seaborn as sns"
      ]
    },
    {
      "cell_type": "markdown",
      "id": "2a4286ca-8b43-4ca3-8aa1-6b8053c3453f",
      "metadata": {
        "id": "2a4286ca-8b43-4ca3-8aa1-6b8053c3453f"
      },
      "source": [
        "----"
      ]
    },
    {
      "cell_type": "markdown",
      "id": "403265a8-9932-44f4-934e-1a510773b594",
      "metadata": {
        "id": "403265a8-9932-44f4-934e-1a510773b594"
      },
      "source": [
        "# Using Reinforcement Learning to figure out how to get the most fries"
      ]
    },
    {
      "cell_type": "markdown",
      "id": "792642e6-7ffa-42d3-84b1-cc2462d9e97b",
      "metadata": {
        "id": "792642e6-7ffa-42d3-84b1-cc2462d9e97b"
      },
      "source": [
        "In this exmaple, we're going to define the probilities that **Norm** and **'Squatch** serve us small and large orders of fries and then, pretending we don't know the real probabilities, we'll use **Reinforcement Learning** to where we should go if we want to maximize the number of fries we eat.\n",
        "\n",
        "So the first thing we do is define the probablities that **Norm** and **'Squatch** will serve us large or small orders of fries..."
      ]
    },
    {
      "cell_type": "code",
      "execution_count": null,
      "id": "46e27513-6d4b-4da1-b68c-9694e1b7d3a8",
      "metadata": {
        "id": "46e27513-6d4b-4da1-b68c-9694e1b7d3a8"
      },
      "outputs": [],
      "source": [
        "## probabilities that 'squatch and norm will\n",
        "## serve a large or small portion of fries\n",
        "## NOTE: s = 'squatch, n = norm\n",
        "## ALSO NOTE: 'squatch rarely serves a large order\n",
        "##             of fries and norm frequently does.\n",
        "s_large = 0.15\n",
        "s_small = (1 - s_large)\n",
        "n_large = 0.80\n",
        "n_small = (1 - n_large)"
      ]
    },
    {
      "cell_type": "markdown",
      "id": "99cdfc09-df18-4587-a350-77bc4a09e45a",
      "metadata": {
        "id": "99cdfc09-df18-4587-a350-77bc4a09e45a"
      },
      "source": [
        "Now that we have defined the probabilities that **Norm** and **'Squatch** will serve us small and large orders of fries, let's use **Reinforcement Learning** to figure out how frequently we should go to **'Squatch's Fry Shack** to order fries if we want to maximize the number of fries we eat.\n",
        "\n",
        "We'll start by initializing the probability we go to **'Squatch's Fry Shack** to **0.5**. In other words, at the start, there is an equal probability that we will go to **'Squatch's Fry Shack** or **Norm's Fry Hut**."
      ]
    },
    {
      "cell_type": "code",
      "execution_count": null,
      "id": "c55e134b-0846-438a-9356-e10843aec3df",
      "metadata": {
        "id": "c55e134b-0846-438a-9356-e10843aec3df"
      },
      "outputs": [],
      "source": [
        "## initial probabilities that we will select\n",
        "## 'squatch's fry shack\n",
        "go_to_s = 0.5"
      ]
    },
    {
      "cell_type": "markdown",
      "id": "5404b9fc-b852-44ea-be82-1969453a2e79",
      "metadata": {
        "id": "5404b9fc-b852-44ea-be82-1969453a2e79"
      },
      "source": [
        "Now let's pick a random number and use that to decide where we should go to eat fries. If the random number is less than or equal to `go_to_s`, then we'll go to **'Squatch's Fry Shack**. If it is greater than `go_to_s`, we'll visit **Norm's Fry Hut**. We'll then order some fries and adjust `go_to_s` based on whether or not we got a large order. We'll then repeat that process a bunch of times to find the optimal probability that we should go to **'Squatch's Fry Shack**.\n",
        "\n",
        "**NOTE:** We're going to run this code twice. The first time, we're just going to oder fries a few times and print out a lot of stuff so we can see how Reinforcement Learning works in this example. Then we'll order a lot of fries (without printing out anything) so we can find the optimal probability that we go to **'Squatch's Fry Shack**."
      ]
    },
    {
      "cell_type": "markdown",
      "id": "135e113f-6062-441c-b73e-8eceb2556b7a",
      "metadata": {
        "id": "135e113f-6062-441c-b73e-8eceb2556b7a"
      },
      "source": [
        "## First, let's just order fries a few times...\n",
        "\n",
        "...so we can print out a lot of stuff and verify that the reinforcement learning process is working as expected."
      ]
    },
    {
      "cell_type": "code",
      "execution_count": null,
      "id": "505c8c8a-3b01-4054-9690-168bd79f432e",
      "metadata": {
        "id": "505c8c8a-3b01-4054-9690-168bd79f432e"
      },
      "outputs": [],
      "source": [
        "go_to_s = 0.5 # intial probability we visit 'Squatch's\n",
        "\n",
        "np.random.seed(42) # seeding the random number generator helps\n",
        "                   # ensure that you get results that are similar\n",
        "                   # to mine.\n",
        "\n",
        "## how many times will we go out for fries?\n",
        "num_visits = 5\n",
        "\n",
        "## how much should we scale each change in go_to_s\n",
        "learning_rate = 0.1\n",
        "\n",
        "## Each time we order fries, we're going\n",
        "## to update the probability that we will\n",
        "## visit 'Squatch's Fry Shack. We'll save\n",
        "## these probabilities so we can graph them\n",
        "## and take the average to determine the\n",
        "## optimal strategy for getting the most fries.\n",
        "probs_to_visit_s = np.zeros(num_visits+1)\n",
        "\n",
        "## now let's order a lot of fries!!!\n",
        "for i in np.arange(0, num_visits):\n",
        "\n",
        "    ## first, pick a random number between 0 and 1\n",
        "    ## to determine if we should visit 'Squatch's Fry Shack\n",
        "    visit_s = np.random.uniform(low=0, high=1)\n",
        "    probs_to_visit_s[i] = go_to_s # save the probabliity so we can graph it later\n",
        "\n",
        "    print(\"visit:\", i)\n",
        "    print(\"\\tgo_to_s:\", go_to_s)\n",
        "    print(\"\\tvisit_s:\", visit_s)\n",
        "\n",
        "    ## If visit_s <= go_to_s, then go to 'Squatch's...\n",
        "    if (visit_s <= go_to_s):\n",
        "\n",
        "        print(\"\\tvisiting squatch\")\n",
        "\n",
        "        ## Now let's see if squatch gives us a large\n",
        "        ## order of fries by first picking a random number\n",
        "        ## between 0 and 1...\n",
        "        large_order = np.random.uniform(low=0, high=1)\n",
        "\n",
        "        ## If the random number is <= s_large, then\n",
        "        ## 'Squatch gave us a large order of fries...\n",
        "        if (large_order <= s_large):\n",
        "\n",
        "            print(\"\\tgot a large order\")\n",
        "\n",
        "            ## If 'squatch gives us a large order of fries,\n",
        "            ## increase the probability of visiting 'squatch\n",
        "            go_to_s = go_to_s + (learning_rate * (1 - go_to_s))\n",
        "            print(\"\\tupdated go_to_s:\", go_to_s)\n",
        "\n",
        "        else: # ...otherwise we got a small order\n",
        "\n",
        "            print(\"\\tgot a small order\")\n",
        "\n",
        "            ## If 'squatch gives us a small order of fries,\n",
        "            ## decrease the probability of visiting 'squatch\n",
        "            go_to_s = go_to_s + (learning_rate * (0 - go_to_s))\n",
        "            print(\"\\tupdated go_to_s:\", go_to_s)\n",
        "\n",
        "    else: # ...otherwise we visit Norm's\n",
        "\n",
        "        print(\"\\tvisiting norm\")\n",
        "\n",
        "        large_order = np.random.uniform(low=0, high=1)\n",
        "\n",
        "        if (large_order <= n_large):\n",
        "\n",
        "            print(\"\\tgot a large order\")\n",
        "\n",
        "            ## If norm gives us a large order of fries,\n",
        "            ## increase the probability of visiting norm\n",
        "            go_to_s = go_to_s + (learning_rate * (0 - go_to_s))\n",
        "            print(\"\\tupdated go_to_s:\", go_to_s)\n",
        "\n",
        "        else:\n",
        "\n",
        "            print(\"\\tgot a small order\")\n",
        "\n",
        "            ## If norm gives us a small order of fries,\n",
        "            ## decrease the probability of visiting norm\n",
        "            go_to_s = go_to_s + (learning_rate * (1 - go_to_s))\n",
        "            print(\"\\tupdated go_to_s:\", go_to_s)\n",
        "    print(\"\")\n",
        "\n",
        "probs_to_visit_s[-1] = go_to_s"
      ]
    },
    {
      "cell_type": "markdown",
      "id": "fc9358ab-349c-412d-8764-c2620e7b30a8",
      "metadata": {
        "id": "fc9358ab-349c-412d-8764-c2620e7b30a8"
      },
      "source": [
        "And, as we can see, things appear to be working. When we visit 'Squatch and get a small order of fries, or we visit Norm's and get a large order of fries, the probability that we will go back to 'Squatch's gets smaller.\n",
        "\n",
        "Bam."
      ]
    },
    {
      "cell_type": "markdown",
      "id": "21616fc8-ee97-4119-a7ba-58fb77474243",
      "metadata": {
        "id": "21616fc8-ee97-4119-a7ba-58fb77474243"
      },
      "source": [
        "## Now let's order fries a bunch of times...\n",
        "\n",
        "...so that we can determine the probability that we should visit **'Squatch's Fry Shack** if we want to maximize the number of fries we get to eat."
      ]
    },
    {
      "cell_type": "code",
      "execution_count": null,
      "id": "962c2fa4",
      "metadata": {
        "id": "962c2fa4"
      },
      "outputs": [],
      "source": [
        "## First, reset the probability that we will go\n",
        "## to 'Squatch's to 0.5...\n",
        "go_to_s = 0.5\n",
        "\n",
        "np.random.seed(42) # seeding the random number generator helps\n",
        "                   # ensure that you get results that are similar\n",
        "                   # to mine.\n",
        "\n",
        "## how many times will we go out for fries?\n",
        "num_visits = 1000\n",
        "\n",
        "## how much should we scale each change in go_to_s\n",
        "learning_rate = 0.1\n",
        "\n",
        "## Each time we order fries, we're going\n",
        "## to update the probability that we will\n",
        "## visit 'Squatch's Fry Shack. We'll save\n",
        "## these probabilities so we can graph them\n",
        "## and take the average to determine the\n",
        "## optimal strategy for getting the most fries.\n",
        "probs_to_visit_s = np.zeros(num_visits+1)\n",
        "\n",
        "## now let's order a lot of fries!!!\n",
        "for i in np.arange(0, num_visits):\n",
        "\n",
        "    ## first, pick a random number between 0 and 1\n",
        "    ## to determine if we should visit 'Squatch's Fry Shack\n",
        "    visit_s = np.random.uniform(low=0, high=1)\n",
        "    probs_to_visit_s[i] = go_to_s # save the probabliity so we can graph it later\n",
        "\n",
        "    # print(\"visit:\", i)\n",
        "    # print(\"\\tgo_to_s:\", go_to_s)\n",
        "    # print(\"\\tvisit_s:\", visit_s)\n",
        "\n",
        "    ## If visit_s <= go_to_s, then go to 'Squatch's...\n",
        "    if (visit_s <= go_to_s):\n",
        "\n",
        "        # print(\"\\tvisiting squatch\")\n",
        "\n",
        "        ## Now let's see if squatch gives us a large\n",
        "        ## order of fries by first picking a random number\n",
        "        ## between 0 and 1...\n",
        "        large_order = np.random.uniform(low=0, high=1)\n",
        "\n",
        "        ## If the random number is <= s_large, then\n",
        "        ## 'Squatch gave us a large order of fries...\n",
        "        if (large_order <= s_large):\n",
        "\n",
        "            # print(\"\\tgot a large order\")\n",
        "\n",
        "            ## If 'squatch gives us a large order of fries,\n",
        "            ## increase the probability of visiting 'squatch\n",
        "            go_to_s = go_to_s + (learning_rate * (1 - go_to_s))\n",
        "            # print(\"\\tupdated go_to_s:\", go_to_s)\n",
        "\n",
        "        else: # ...otherwise we got a small order\n",
        "\n",
        "            # print(\"\\tgot a small order\")\n",
        "\n",
        "            ## If 'squatch gives us a small order of fries,\n",
        "            ## decrease the probability of visiting 'squatch\n",
        "            go_to_s = go_to_s + (learning_rate * (0 - go_to_s))\n",
        "            # print(\"\\tupdated go_to_s:\", go_to_s)\n",
        "\n",
        "    else: # ...otherwise we visit Norm's\n",
        "\n",
        "        # print(\"\\tvisiting norm\")\n",
        "\n",
        "        large_order = np.random.uniform(low=0, high=1)\n",
        "\n",
        "        if (large_order <= n_large):\n",
        "\n",
        "            # print(\"\\tgot a large order\")\n",
        "\n",
        "            ## If norm gives us a large order of fries,\n",
        "            ## increase the probability of visiting norm\n",
        "            go_to_s = go_to_s + (learning_rate * (0 - go_to_s))\n",
        "            # print(\"\\tupdated go_to_s:\", go_to_s)\n",
        "\n",
        "        else:\n",
        "\n",
        "            # print(\"\\tgot a small order\")\n",
        "\n",
        "            ## If norm gives us a small order of fries,\n",
        "            ## decrease the probability of visiting norm\n",
        "            go_to_s = go_to_s + (learning_rate * (1 - go_to_s))\n",
        "            # print(\"\\tupdated go_to_s:\", go_to_s)\n",
        "\n",
        "probs_to_visit_s[-1] = go_to_s"
      ]
    },
    {
      "cell_type": "markdown",
      "id": "22419bb1-f390-4b47-a66c-be9fabfc9ff6",
      "metadata": {
        "id": "22419bb1-f390-4b47-a66c-be9fabfc9ff6"
      },
      "source": [
        "Now that we have ordered a lot of fries, let's draw a graph of how the probability that we visit 'Squatch's Fry Shack changes over time. Remember, we randomly select where to go, and we randomly get large or small orders of fries at each place, so things can change over time in unexpected ways."
      ]
    },
    {
      "cell_type": "code",
      "execution_count": null,
      "id": "b3e87c14-0c6f-44c4-99fc-618e4539d173",
      "metadata": {
        "id": "b3e87c14-0c6f-44c4-99fc-618e4539d173"
      },
      "outputs": [],
      "source": [
        "sns.lineplot(x=np.arange(0, num_visits+1),\n",
        "             y=probs_to_visit_s,\n",
        "             color='blue',\n",
        "             linewidth=2.5)"
      ]
    },
    {
      "cell_type": "markdown",
      "id": "0b5faba7-8dbb-4fd6-b5e2-4a1730edfd80",
      "metadata": {
        "id": "0b5faba7-8dbb-4fd6-b5e2-4a1730edfd80"
      },
      "source": [
        "In the graph above, we see that the probability we visit **'Squatch's Fry Shack** starts at **0.5**, because we initialized the value to that, and then rapidly goes down because the probability **'Squatch** gives us a large order of fries is low and the probability **Norm** gives us a large order of fries is high. However, due to random chance, sometimes **'Squatch** might give us a larger order of fries and **Norm** might give us a small order of fries, which increases the probability we will visit **'Squatch's Fry Shack**. We see in the second half of the graph that this rare thing happened enough that the probability we visit **'Squatch's Fry Shack** went back up to **0.5**! However, it quickly went back down, which is more in line with what we expect.\n",
        "\n",
        "## Double BAM!\n",
        "\n",
        "In order to find the optimal probability that we should go to **'Squatch's Fry Shack** to get the most fries, we can simply average over all of the probabilities that we calculated for visiting **'Squatch's Fry Shack**.\n",
        "\n",
        "**NOTE:** Some people prefer to omit the first handful of probabilities from the average since they are affected by our initial value more than the others. This is fine to do, but not needed in this case."
      ]
    },
    {
      "cell_type": "code",
      "execution_count": null,
      "id": "8e9a1c16-1a0a-414a-acc7-88f445625896",
      "metadata": {
        "id": "8e9a1c16-1a0a-414a-acc7-88f445625896"
      },
      "outputs": [],
      "source": [
        "np.mean(probs_to_visit_s)"
      ]
    },
    {
      "cell_type": "markdown",
      "id": "aeb50027-7a90-4dcc-a091-d5e5edbe7dfa",
      "metadata": {
        "id": "aeb50027-7a90-4dcc-a091-d5e5edbe7dfa"
      },
      "source": [
        "In the end, we see that, if we want to maximize the number of fries we eat, we should only visit **'Squatch's Fry Shack** **18%** of the time. In other words, there's a higher chance that **Norm** will give us a large order of fries, but he doesn't always do it, and we can offset those dissapointing orders by visiting **'Squatch** from time to time.\n",
        "\n",
        "# TRIPLE BAM!!!"
      ]
    }
  ],
  "metadata": {
    "kernelspec": {
      "display_name": "Python 3 (ipykernel)",
      "language": "python",
      "name": "python3"
    },
    "language_info": {
      "codemirror_mode": {
        "name": "ipython",
        "version": 3
      },
      "file_extension": ".py",
      "mimetype": "text/x-python",
      "name": "python",
      "nbconvert_exporter": "python",
      "pygments_lexer": "ipython3",
      "version": "3.9.6"
    },
    "colab": {
      "provenance": []
    }
  },
  "nbformat": 4,
  "nbformat_minor": 5
}